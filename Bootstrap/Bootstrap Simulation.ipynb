{
 "cells": [
  {
   "cell_type": "markdown",
   "id": "97f165c5",
   "metadata": {},
   "source": [
    "# Confidence interval through bootstraping and Student's t assumption"
   ]
  },
  {
   "cell_type": "markdown",
   "id": "ea7f0dcb",
   "metadata": {},
   "source": [
    "In this program, we shall verify how robust is the confidence interval estimated from non-normal sample (exponentially distributed) through two methods:\n",
    "\n",
    "(1) bootstraping <br>\n",
    "(2) Assuming a t distributed sample (kwoning that they are not)"
   ]
  },
  {
   "cell_type": "markdown",
   "id": "f9685986",
   "metadata": {},
   "source": [
    "## Libraries"
   ]
  },
  {
   "cell_type": "code",
   "execution_count": 121,
   "id": "7711118c",
   "metadata": {},
   "outputs": [],
   "source": [
    "import numpy as np\n",
    "from scipy import stats\n",
    "from matplotlib import pyplot as plt"
   ]
  },
  {
   "cell_type": "markdown",
   "id": "3d49d28d",
   "metadata": {},
   "source": [
    "## Confidence interval by bootstraping"
   ]
  },
  {
   "cell_type": "markdown",
   "id": "dc333470",
   "metadata": {},
   "source": [
    "Defining some functions"
   ]
  },
  {
   "cell_type": "code",
   "execution_count": 170,
   "id": "eb85f5e7",
   "metadata": {},
   "outputs": [],
   "source": [
    "# Empirical Distribution Function\n",
    "def EDF(x, sample):\n",
    "    ret = 0\n",
    "    \n",
    "    for xi in sample:\n",
    "        if xi <= x: ret += 1\n",
    "            \n",
    "    return ret / sample.size\n",
    "\n",
    "def sample_quantile(p, sample):\n",
    "    eps = (max(sample) - min(sample)) / 1000\n",
    "    \n",
    "    x = min(sample)\n",
    "    while EDF(x, sample) < p:\n",
    "        x += eps\n",
    "        \n",
    "    return x\n",
    "\n",
    "def boot_conf_inter(sample, alpha = 0.05, n = 1000):\n",
    "    mean = np.mean(sample)\n",
    "    boot_mean = np.full(n, np.nan)\n",
    "    \n",
    "    for i in range(boot_mean.size):\n",
    "        boot_mean[i] = np.mean(np.random.choice(sample, sample.size))\n",
    "        \n",
    "    return (2*mean - sample_quantile(1 - alpha/2, boot_mean), 2*mean - sample_quantile(alpha / 2, sample))"
   ]
  },
  {
   "cell_type": "markdown",
   "id": "bcd9cb3b",
   "metadata": {},
   "source": [
    "Perfoming the sampling <code>n_total</code> and testing if the populational mean is within the estimated confidence interval"
   ]
  },
  {
   "cell_type": "code",
   "execution_count": 171,
   "id": "0793373c",
   "metadata": {},
   "outputs": [
    {
     "name": "stdout",
     "output_type": "stream",
     "text": [
      "The population mean was between the estimated confidence interval 98.00%\n"
     ]
    }
   ],
   "source": [
    "n_in = 0 # Number of times that the population mean was inside the confidence interval\n",
    "n_total = 100 # Number of experiments\n",
    "\n",
    "for i in range(n_total):\n",
    "    sample = stats.expon.rvs(size = 30)\n",
    "    pop_mean = stats.expon.mean()\n",
    "    conf_inter = boot_conf_inter(sample, n = 100)\n",
    "    \n",
    "    if (pop_mean >= conf_inter[0]) and (pop_mean <= conf_inter[1]): n_in += 1\n",
    "        \n",
    "print('The population mean was between the estimated confidence interval {:.2f}%'.format(100 * n_in / n_total))"
   ]
  },
  {
   "cell_type": "markdown",
   "id": "768658b0",
   "metadata": {},
   "source": [
    "## Confidence interval by Student's t assumption"
   ]
  },
  {
   "cell_type": "markdown",
   "id": "ccf7a4dd",
   "metadata": {},
   "source": [
    "Let us assuming the sample normally distributed and, then, calcu"
   ]
  },
  {
   "cell_type": "code",
   "execution_count": 172,
   "id": "841dec62",
   "metadata": {},
   "outputs": [
    {
     "name": "stdout",
     "output_type": "stream",
     "text": [
      "The population mean was between the estimated confidence interval 91.80%\n"
     ]
    }
   ],
   "source": [
    "n_in = 0 # Number of times that the population mean was inside the confidence interval\n",
    "n_total = 1000 # Number of experiments\n",
    "\n",
    "for i in range(n_total):\n",
    "    sample = stats.expon.rvs(size = 30)\n",
    "    pop_mean = stats.expon.mean()\n",
    "    mean = np.mean(sample)\n",
    "    se = np.std(sample) / np.sqrt(sample.size)\n",
    "    alpha = 0.05\n",
    "    z = stats.t.ppf(1 - alpha / 2, sample.size - 1)\n",
    "    conf_inter = (mean - z*se, mean + z*se)\n",
    "    \n",
    "    if (pop_mean >= conf_inter[0]) and (pop_mean <= conf_inter[1]): n_in += 1\n",
    "        \n",
    "print('The population mean was between the estimated confidence interval {:.2f}%'.format(100 * n_in / n_total))"
   ]
  }
 ],
 "metadata": {
  "kernelspec": {
   "display_name": "Python 3 (ipykernel)",
   "language": "python",
   "name": "python3"
  },
  "language_info": {
   "codemirror_mode": {
    "name": "ipython",
    "version": 3
   },
   "file_extension": ".py",
   "mimetype": "text/x-python",
   "name": "python",
   "nbconvert_exporter": "python",
   "pygments_lexer": "ipython3",
   "version": "3.10.6"
  }
 },
 "nbformat": 4,
 "nbformat_minor": 5
}
