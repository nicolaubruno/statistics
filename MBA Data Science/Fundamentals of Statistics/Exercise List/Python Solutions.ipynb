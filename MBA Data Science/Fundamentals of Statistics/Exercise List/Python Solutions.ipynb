{
 "cells": [
  {
   "cell_type": "markdown",
   "id": "00b2efc3",
   "metadata": {},
   "source": [
    "# Exercises"
   ]
  },
  {
   "cell_type": "markdown",
   "id": "5f1a7d57",
   "metadata": {},
   "source": [
    "## Lirabries"
   ]
  },
  {
   "cell_type": "code",
   "execution_count": 2,
   "id": "db98a2f7",
   "metadata": {},
   "outputs": [],
   "source": [
    "import numpy as np\n",
    "import pandas as pd\n",
    "from scipy import stats"
   ]
  },
  {
   "cell_type": "markdown",
   "id": "3f1afde6",
   "metadata": {},
   "source": [
    "## Q1"
   ]
  },
  {
   "cell_type": "markdown",
   "id": "98be9ec8",
   "metadata": {},
   "source": [
    "<hr style=\"height:1px;background-color:#999;boder:none\" />\n",
    "<h2> Q2 </h2>\n",
    "\n",
    "A stock market analyst collected the monthly return on investments (ROI) of two stocks which he intends to indicate to their clients. Calculate the descriptive statistics for the two variables including the correlation between the ROIs. The data with the ROIs is available in the sheet 'Exercício 2' from the file <a href=\"Questions Data.xlsx\">Questions Data.xlsx</a>."
   ]
  },
  {
   "cell_type": "markdown",
   "id": "e5618a8f",
   "metadata": {},
   "source": [
    "<h3>Answer</h3>"
   ]
  },
  {
   "cell_type": "code",
   "execution_count": 74,
   "id": "3d7d2956",
   "metadata": {},
   "outputs": [
    {
     "data": {
      "text/html": [
       "<div>\n",
       "<style scoped>\n",
       "    .dataframe tbody tr th:only-of-type {\n",
       "        vertical-align: middle;\n",
       "    }\n",
       "\n",
       "    .dataframe tbody tr th {\n",
       "        vertical-align: top;\n",
       "    }\n",
       "\n",
       "    .dataframe thead th {\n",
       "        text-align: right;\n",
       "    }\n",
       "</style>\n",
       "<table border=\"1\" class=\"dataframe\">\n",
       "  <thead>\n",
       "    <tr style=\"text-align: right;\">\n",
       "      <th></th>\n",
       "      <th>Stock 1</th>\n",
       "      <th>Stock 2</th>\n",
       "    </tr>\n",
       "    <tr>\n",
       "      <th>Months</th>\n",
       "      <th></th>\n",
       "      <th></th>\n",
       "    </tr>\n",
       "  </thead>\n",
       "  <tbody>\n",
       "    <tr>\n",
       "      <th>1</th>\n",
       "      <td>-0.0212</td>\n",
       "      <td>0.2645</td>\n",
       "    </tr>\n",
       "    <tr>\n",
       "      <th>2</th>\n",
       "      <td>0.2438</td>\n",
       "      <td>0.2086</td>\n",
       "    </tr>\n",
       "    <tr>\n",
       "      <th>3</th>\n",
       "      <td>0.2296</td>\n",
       "      <td>0.1248</td>\n",
       "    </tr>\n",
       "    <tr>\n",
       "      <th>4</th>\n",
       "      <td>-0.2018</td>\n",
       "      <td>0.0209</td>\n",
       "    </tr>\n",
       "    <tr>\n",
       "      <th>5</th>\n",
       "      <td>0.1296</td>\n",
       "      <td>0.2055</td>\n",
       "    </tr>\n",
       "    <tr>\n",
       "      <th>6</th>\n",
       "      <td>0.0615</td>\n",
       "      <td>0.6260</td>\n",
       "    </tr>\n",
       "    <tr>\n",
       "      <th>7</th>\n",
       "      <td>-0.1591</td>\n",
       "      <td>-0.1490</td>\n",
       "    </tr>\n",
       "    <tr>\n",
       "      <th>8</th>\n",
       "      <td>-0.1001</td>\n",
       "      <td>0.2580</td>\n",
       "    </tr>\n",
       "    <tr>\n",
       "      <th>9</th>\n",
       "      <td>-0.0265</td>\n",
       "      <td>0.1722</td>\n",
       "    </tr>\n",
       "    <tr>\n",
       "      <th>10</th>\n",
       "      <td>0.0776</td>\n",
       "      <td>0.0199</td>\n",
       "    </tr>\n",
       "    <tr>\n",
       "      <th>11</th>\n",
       "      <td>0.0370</td>\n",
       "      <td>0.4331</td>\n",
       "    </tr>\n",
       "    <tr>\n",
       "      <th>12</th>\n",
       "      <td>0.1116</td>\n",
       "      <td>0.5482</td>\n",
       "    </tr>\n",
       "    <tr>\n",
       "      <th>13</th>\n",
       "      <td>-0.0667</td>\n",
       "      <td>0.0452</td>\n",
       "    </tr>\n",
       "    <tr>\n",
       "      <th>14</th>\n",
       "      <td>-0.0082</td>\n",
       "      <td>-0.1410</td>\n",
       "    </tr>\n",
       "    <tr>\n",
       "      <th>15</th>\n",
       "      <td>0.0119</td>\n",
       "      <td>-0.1059</td>\n",
       "    </tr>\n",
       "    <tr>\n",
       "      <th>16</th>\n",
       "      <td>0.1205</td>\n",
       "      <td>0.4074</td>\n",
       "    </tr>\n",
       "    <tr>\n",
       "      <th>17</th>\n",
       "      <td>0.0477</td>\n",
       "      <td>-0.0056</td>\n",
       "    </tr>\n",
       "    <tr>\n",
       "      <th>18</th>\n",
       "      <td>0.2814</td>\n",
       "      <td>0.1482</td>\n",
       "    </tr>\n",
       "    <tr>\n",
       "      <th>19</th>\n",
       "      <td>-0.0674</td>\n",
       "      <td>0.0753</td>\n",
       "    </tr>\n",
       "    <tr>\n",
       "      <th>20</th>\n",
       "      <td>0.0762</td>\n",
       "      <td>0.0899</td>\n",
       "    </tr>\n",
       "    <tr>\n",
       "      <th>21</th>\n",
       "      <td>-0.1111</td>\n",
       "      <td>0.0160</td>\n",
       "    </tr>\n",
       "    <tr>\n",
       "      <th>22</th>\n",
       "      <td>-0.0557</td>\n",
       "      <td>0.1805</td>\n",
       "    </tr>\n",
       "    <tr>\n",
       "      <th>23</th>\n",
       "      <td>0.1991</td>\n",
       "      <td>0.0334</td>\n",
       "    </tr>\n",
       "  </tbody>\n",
       "</table>\n",
       "</div>"
      ],
      "text/plain": [
       "        Stock 1  Stock 2\n",
       "Months                  \n",
       "1       -0.0212   0.2645\n",
       "2        0.2438   0.2086\n",
       "3        0.2296   0.1248\n",
       "4       -0.2018   0.0209\n",
       "5        0.1296   0.2055\n",
       "6        0.0615   0.6260\n",
       "7       -0.1591  -0.1490\n",
       "8       -0.1001   0.2580\n",
       "9       -0.0265   0.1722\n",
       "10       0.0776   0.0199\n",
       "11       0.0370   0.4331\n",
       "12       0.1116   0.5482\n",
       "13      -0.0667   0.0452\n",
       "14      -0.0082  -0.1410\n",
       "15       0.0119  -0.1059\n",
       "16       0.1205   0.4074\n",
       "17       0.0477  -0.0056\n",
       "18       0.2814   0.1482\n",
       "19      -0.0674   0.0753\n",
       "20       0.0762   0.0899\n",
       "21      -0.1111   0.0160\n",
       "22      -0.0557   0.1805\n",
       "23       0.1991   0.0334"
      ]
     },
     "execution_count": 74,
     "metadata": {},
     "output_type": "execute_result"
    }
   ],
   "source": [
    "# Read data from the Excel file\n",
    "df = pd.read_excel(\n",
    "    \"Questions Data.xlsx\",\n",
    "    sheet_name = 'Exercício 2',\n",
    "    index_col = 0,\n",
    "    usecols = 'A:C',\n",
    "    nrows = 23,\n",
    ")\n",
    "\n",
    "df.reset_index(inplace = True)\n",
    "df.rename(columns = {'Meses': 'Months', 'Ação 1': 'Stock 1', 'Ação 2': 'Stock 2'}, inplace = True)\n",
    "df = df.astype({'Stock 1': 'float64', 'Stock 2': 'float64'})\n",
    "df.set_index('Months', inplace = True)\n",
    "\n",
    "df"
   ]
  },
  {
   "cell_type": "code",
   "execution_count": 103,
   "id": "977fd844",
   "metadata": {},
   "outputs": [
    {
     "data": {
      "text/html": [
       "<div>\n",
       "<style scoped>\n",
       "    .dataframe tbody tr th:only-of-type {\n",
       "        vertical-align: middle;\n",
       "    }\n",
       "\n",
       "    .dataframe tbody tr th {\n",
       "        vertical-align: top;\n",
       "    }\n",
       "\n",
       "    .dataframe thead th {\n",
       "        text-align: right;\n",
       "    }\n",
       "</style>\n",
       "<table border=\"1\" class=\"dataframe\">\n",
       "  <thead>\n",
       "    <tr style=\"text-align: right;\">\n",
       "      <th></th>\n",
       "      <th>Stock 1</th>\n",
       "      <th>Stock 2</th>\n",
       "    </tr>\n",
       "  </thead>\n",
       "  <tbody>\n",
       "    <tr>\n",
       "      <th>Number of observations</th>\n",
       "      <td>23</td>\n",
       "      <td>23</td>\n",
       "    </tr>\n",
       "    <tr>\n",
       "      <th>Mean</th>\n",
       "      <td>0.035204</td>\n",
       "      <td>0.151135</td>\n",
       "    </tr>\n",
       "    <tr>\n",
       "      <th>Median</th>\n",
       "      <td>0.037</td>\n",
       "      <td>0.1248</td>\n",
       "    </tr>\n",
       "    <tr>\n",
       "      <th>Mode</th>\n",
       "      <td>NaN</td>\n",
       "      <td>NaN</td>\n",
       "    </tr>\n",
       "    <tr>\n",
       "      <th>1st quantile</th>\n",
       "      <td>-0.0612</td>\n",
       "      <td>0.0204</td>\n",
       "    </tr>\n",
       "    <tr>\n",
       "      <th>3rd quantile</th>\n",
       "      <td>0.11605</td>\n",
       "      <td>0.2333</td>\n",
       "    </tr>\n",
       "    <tr>\n",
       "      <th>8th decile</th>\n",
       "      <td>0.12596</td>\n",
       "      <td>0.2619</td>\n",
       "    </tr>\n",
       "    <tr>\n",
       "      <th>9th decile</th>\n",
       "      <td>0.2235</td>\n",
       "      <td>0.42796</td>\n",
       "    </tr>\n",
       "    <tr>\n",
       "      <th>27th decile</th>\n",
       "      <td>-0.05636</td>\n",
       "      <td>0.02084</td>\n",
       "    </tr>\n",
       "    <tr>\n",
       "      <th>64th decile</th>\n",
       "      <td>0.076312</td>\n",
       "      <td>0.1825</td>\n",
       "    </tr>\n",
       "    <tr>\n",
       "      <th>Minimum</th>\n",
       "      <td>-0.2018</td>\n",
       "      <td>-0.149</td>\n",
       "    </tr>\n",
       "    <tr>\n",
       "      <th>Maximum</th>\n",
       "      <td>0.2814</td>\n",
       "      <td>0.626</td>\n",
       "    </tr>\n",
       "    <tr>\n",
       "      <th>Amplitude</th>\n",
       "      <td>0.4832</td>\n",
       "      <td>0.775</td>\n",
       "    </tr>\n",
       "    <tr>\n",
       "      <th>Variance</th>\n",
       "      <td>0.016698</td>\n",
       "      <td>0.041544</td>\n",
       "    </tr>\n",
       "    <tr>\n",
       "      <th>Standard deviation</th>\n",
       "      <td>0.129221</td>\n",
       "      <td>0.203822</td>\n",
       "    </tr>\n",
       "    <tr>\n",
       "      <th>Standard error</th>\n",
       "      <td>0.026944</td>\n",
       "      <td>0.0425</td>\n",
       "    </tr>\n",
       "    <tr>\n",
       "      <th>Coefficient of Variation</th>\n",
       "      <td>3.670591</td>\n",
       "      <td>1.348613</td>\n",
       "    </tr>\n",
       "  </tbody>\n",
       "</table>\n",
       "</div>"
      ],
      "text/plain": [
       "                           Stock 1   Stock 2\n",
       "Number of observations          23        23\n",
       "Mean                      0.035204  0.151135\n",
       "Median                       0.037    0.1248\n",
       "Mode                           NaN       NaN\n",
       "1st quantile               -0.0612    0.0204\n",
       "3rd quantile               0.11605    0.2333\n",
       "8th decile                 0.12596    0.2619\n",
       "9th decile                  0.2235   0.42796\n",
       "27th decile               -0.05636   0.02084\n",
       "64th decile               0.076312    0.1825\n",
       "Minimum                    -0.2018    -0.149\n",
       "Maximum                     0.2814     0.626\n",
       "Amplitude                   0.4832     0.775\n",
       "Variance                  0.016698  0.041544\n",
       "Standard deviation        0.129221  0.203822\n",
       "Standard error            0.026944    0.0425\n",
       "Coefficient of Variation  3.670591  1.348613"
      ]
     },
     "metadata": {},
     "output_type": "display_data"
    },
    {
     "name": "stdout",
     "output_type": "stream",
     "text": [
      "Correlation (0.29081897658677186, 0.1782207826223213)\n"
     ]
    }
   ],
   "source": [
    "stats_df = pd.DataFrame(columns = {'Stock 1', 'Stock 2'})\n",
    "\n",
    "# Number of observations\n",
    "stats_df = stats_df.append(pd.DataFrame({'Stock 1': df['Stock 1'].shape[0], 'Stock 2': df['Stock 2'].shape[0]}, index = ['Number of observations']))\n",
    "\n",
    "# Mean\n",
    "stats_df = stats_df.append(pd.DataFrame(\n",
    "    {'Stock 1': df['Stock 1'].mean(), 'Stock 2': df['Stock 2'].mean()},\n",
    "    index = ['Mean']\n",
    "))\n",
    "\n",
    "# Mean\n",
    "stats_df = stats_df.append(pd.DataFrame(\n",
    "    {'Stock 1': df['Stock 1'].median(), 'Stock 2': df['Stock 2'].median()},\n",
    "    index = ['Median']\n",
    "))\n",
    "\n",
    "# Mode\n",
    "stats_df = stats_df.append(pd.DataFrame(\n",
    "    {'Stock 1': df['Stock 1'].mode()[0] if df['Stock 1'].mode().shape[0] == 1 else np.nan,\n",
    "     'Stock 2': df['Stock 2'].mode()[0] if df['Stock 2'].mode().shape[0] == 1 else np.nan},\n",
    "    index = ['Mode']\n",
    "))\n",
    "\n",
    "# 1st percentile\n",
    "stats_df = stats_df.append(pd.DataFrame(\n",
    "    {'Stock 1': np.percentile(df['Stock 1'], 25), 'Stock 2': np.percentile(df['Stock 2'], 25)},\n",
    "    index = ['1st quantile']\n",
    "))\n",
    "\n",
    "# 3rd percentile\n",
    "stats_df = stats_df.append(pd.DataFrame(\n",
    "    {'Stock 1': np.percentile(df['Stock 1'], 75), 'Stock 2': np.percentile(df['Stock 2'], 75)},\n",
    "    index = ['3rd quantile']\n",
    "))\n",
    "\n",
    "# 8th decile\n",
    "stats_df = stats_df.append(pd.DataFrame(\n",
    "    {'Stock 1': np.percentile(df['Stock 1'], 80), 'Stock 2': np.percentile(df['Stock 2'], 80)},\n",
    "    index = ['8th decile']\n",
    "))\n",
    "\n",
    "# 9th decile\n",
    "stats_df = stats_df.append(pd.DataFrame(\n",
    "    {'Stock 1': np.percentile(df['Stock 1'], 90), 'Stock 2': np.percentile(df['Stock 2'], 90)},\n",
    "    index = ['9th decile']\n",
    "))\n",
    "\n",
    "# 27th decile\n",
    "stats_df = stats_df.append(pd.DataFrame(\n",
    "    {'Stock 1': np.percentile(df['Stock 1'], 27), 'Stock 2': np.percentile(df['Stock 2'], 27)},\n",
    "    index = ['27th decile']\n",
    "))\n",
    "\n",
    "# 64th decile\n",
    "stats_df = stats_df.append(pd.DataFrame(\n",
    "    {'Stock 1': np.percentile(df['Stock 1'], 64), 'Stock 2': np.percentile(df['Stock 2'], 64)},\n",
    "    index = ['64th decile']\n",
    "))\n",
    "\n",
    "# Min value\n",
    "stats_df = stats_df.append(pd.DataFrame(\n",
    "    {'Stock 1': df['Stock 1'].min(), 'Stock 2': df['Stock 2'].min()},\n",
    "    index = ['Minimum']\n",
    "))\n",
    "\n",
    "# Max value\n",
    "stats_df = stats_df.append(pd.DataFrame(\n",
    "    {'Stock 1': df['Stock 1'].max(), 'Stock 2': df['Stock 2'].max()},\n",
    "    index = ['Maximum']\n",
    "))\n",
    "\n",
    "# Amplitude\n",
    "stats_df = stats_df.append(pd.DataFrame(\n",
    "    {'Stock 1': stats_df['Stock 1'].loc['Maximum'] - stats_df['Stock 1'].loc['Minimum'],\n",
    "    'Stock 2': stats_df['Stock 2'].loc['Maximum'] - stats_df['Stock 2'].loc['Minimum']},\n",
    "    index = ['Amplitude']\n",
    "))\n",
    "\n",
    "# Variance\n",
    "stats_df = stats_df.append(pd.DataFrame(\n",
    "    {'Stock 1': df['Stock 1'].var(), 'Stock 2': df['Stock 2'].var()},\n",
    "    index = ['Variance']\n",
    "))\n",
    "\n",
    "# Standard deviation\n",
    "stats_df = stats_df.append(pd.DataFrame(\n",
    "    {'Stock 1': df['Stock 1'].std(), 'Stock 2': df['Stock 2'].std()},\n",
    "    index = ['Standard deviation']\n",
    "))\n",
    "\n",
    "# Standard error\n",
    "stats_df = stats_df.append(pd.DataFrame(\n",
    "    {'Stock 1': df['Stock 1'].sem(), 'Stock 2': df['Stock 2'].sem()},\n",
    "    index = ['Standard error']\n",
    "))\n",
    "\n",
    "# Coefficient of Variation\n",
    "stats_df = stats_df.append(pd.DataFrame(\n",
    "    {'Stock 1': stats_df['Stock 1'].loc['Standard deviation'] / stats_df['Stock 1'].loc['Mean'],\n",
    "     'Stock 2': stats_df['Stock 2'].loc['Standard deviation'] / stats_df['Stock 2'].loc['Mean']},\n",
    "    index = ['Coefficient of Variation']\n",
    "))\n",
    "\n",
    "display(stats_df)\n",
    "\n",
    "print(\"Correlation\", stats.pearsonr(df['Stock 1'], df['Stock 2']))"
   ]
  },
  {
   "cell_type": "code",
   "execution_count": 82,
   "id": "ca5119c4",
   "metadata": {},
   "outputs": [
    {
     "data": {
      "text/plain": [
       "Months\n",
       "1        NaN\n",
       "2        NaN\n",
       "3        NaN\n",
       "4        NaN\n",
       "5        NaN\n",
       "6        NaN\n",
       "7    -0.1591\n",
       "8        NaN\n",
       "9        NaN\n",
       "10       NaN\n",
       "11       NaN\n",
       "12       NaN\n",
       "13       NaN\n",
       "14       NaN\n",
       "15       NaN\n",
       "16       NaN\n",
       "17       NaN\n",
       "18       NaN\n",
       "19       NaN\n",
       "20       NaN\n",
       "21       NaN\n",
       "22       NaN\n",
       "23       NaN\n",
       "Name: Stock 1, dtype: float64"
      ]
     },
     "execution_count": 82,
     "metadata": {},
     "output_type": "execute_result"
    }
   ],
   "source": [
    "df['Stock 1'].where(df['Stock 1'] == -0.1591)"
   ]
  },
  {
   "cell_type": "markdown",
   "id": "2c36cf19",
   "metadata": {},
   "source": [
    "<hr style=\"height:1px;background-color:#999;boder:none\" />\n",
    "<h2> Q3 </h2>\n",
    "\n",
    "In a particular game, the probability of success in each new play is 1/6. In 10 plays, what are the following probabilities\n",
    "\n",
    "a) Win 4 times <br />\n",
    "b) Win at least 7 times"
   ]
  },
  {
   "cell_type": "markdown",
   "id": "0caea25d",
   "metadata": {},
   "source": [
    "<h3>Answer</h3>"
   ]
  },
  {
   "cell_type": "code",
   "execution_count": 29,
   "id": "c702f09e",
   "metadata": {},
   "outputs": [
    {
     "name": "stdout",
     "output_type": "stream",
     "text": [
      "(a) Probability of winning 4 times: 5.42659%\n",
      "(b) Probability of winning at least 7 times: 0.02675%\n"
     ]
    }
   ],
   "source": [
    "# Item (a): Win 4 times\n",
    "print(\"(a) Probability of winning 4 times: {:,.5f}%\".format(stats.binom.pmf(4, 10, 1/6)*100))\n",
    "\n",
    "# Item (b): Win at least 7 times\n",
    "print(\"(b) Probability of winning at least 7 times: {:,.5f}%\".format((1 - stats.binom.cdf(6, 10, 1/6))*100))"
   ]
  },
  {
   "cell_type": "markdown",
   "id": "f59983df",
   "metadata": {},
   "source": [
    "<hr style=\"height:1px;background-color:#999;boder:none\" />\n",
    "<h2> Q4 </h2>\n",
    "\n",
    "(Source: Fávero and Belfiore, 2017, Cap. 5) Assume that a student hit three questions for each five trials. Determine the probability of a student hit 12 questions in 20 trials."
   ]
  },
  {
   "cell_type": "markdown",
   "id": "7cfc9255",
   "metadata": {},
   "source": [
    "<h3>Answer</h3>"
   ]
  },
  {
   "cell_type": "code",
   "execution_count": 18,
   "id": "0f44334e",
   "metadata": {},
   "outputs": [
    {
     "name": "stdout",
     "output_type": "stream",
     "text": [
      "Probability = 10.78235%\n"
     ]
    }
   ],
   "source": [
    "print(\"Probability = {:,.5f}%\".format(stats.nbinom.pmf(20 - 12, 12, 3/5)*100))"
   ]
  },
  {
   "cell_type": "markdown",
   "id": "15776db1",
   "metadata": {},
   "source": [
    "<hr style=\"height:1px;background-color:#999;boder:none\" />\n",
    "<h2> Q5 </h2>\n",
    "\n",
    "(Source: Fávero and Belfiore, 2017, Cap. 5) At a particular hospital, there are three operations on stomachs daily. Assume that the probability of operations in a day follows a **Poisson distribution** and calculate the probability of occurring 28 operations over the next week (7 days)."
   ]
  },
  {
   "cell_type": "markdown",
   "id": "1112f00e",
   "metadata": {},
   "source": [
    "<h3>Answer</h3>"
   ]
  },
  {
   "cell_type": "code",
   "execution_count": 144,
   "id": "d1ca8bc9",
   "metadata": {},
   "outputs": [
    {
     "name": "stdout",
     "output_type": "stream",
     "text": [
      "The probability of occurring 28 operations in a week is 2.61707%\n"
     ]
    }
   ],
   "source": [
    "k = 28 # Operations\n",
    "r = 21 # Rate [Operations / Week]\n",
    "print(\"The probability of occurring {:,d} operations in a week is {:,.5f}%\".format(k, stats.poisson.pmf(k, mu = r)*100))"
   ]
  },
  {
   "cell_type": "code",
   "execution_count": 145,
   "id": "9aa79efd",
   "metadata": {},
   "outputs": [
    {
     "name": "stdout",
     "output_type": "stream",
     "text": [
      "The probability of occurring 4 operations in a day is 16.80314%\n"
     ]
    }
   ],
   "source": [
    "k = 4 # Operations\n",
    "r = 3 # Rate [Operations /  day]\n",
    "print(\"The probability of occurring {:,d} operations in a day is {:,.5f}%\".format(k, stats.poisson.pmf(k, mu = r)*100))"
   ]
  },
  {
   "cell_type": "code",
   "execution_count": 5,
   "id": "af9a16d0",
   "metadata": {},
   "outputs": [
    {
     "data": {
      "text/plain": [
       "3.782100987395365e-06"
      ]
     },
     "execution_count": 5,
     "metadata": {},
     "output_type": "execute_result"
    }
   ],
   "source": [
    "(0.1680314)**7"
   ]
  },
  {
   "cell_type": "markdown",
   "id": "b18d9500",
   "metadata": {},
   "source": [
    "<hr style=\"height:1px;background-color:#999;boder:none\" />\n",
    "<h2> Q6 </h2>\n",
    "\n",
    "In the last six months, it was done measurements of the time $ X $ over which a product was made in a given process. The obtained sample mean time and the sample standard deviation are 26.5 minutes and 4 minutes respectively. Assuming that this time follows a normal distribution, check the following information:\n",
    "\n",
    "a) P(X > 37) <br />\n",
    "b) P(X < 20) <br />\n",
    "c) P(22 < X < 28)"
   ]
  },
  {
   "cell_type": "markdown",
   "id": "e4dcc2ea",
   "metadata": {},
   "source": [
    "<h3>Answer</h3>"
   ]
  },
  {
   "cell_type": "code",
   "execution_count": 97,
   "id": "3a2a1f55",
   "metadata": {},
   "outputs": [
    {
     "name": "stdout",
     "output_type": "stream",
     "text": [
      "P(X > 37) = 0.00433\n",
      "P(X < 20) = 0.05208\n",
      "P(22 < X < 28) = 0.51588\n"
     ]
    }
   ],
   "source": [
    "mean = 26.5\n",
    "std = 4\n",
    "print('P(X > 37) = {:,.5f}'.format(1 - stats.norm.cdf((37 - mean)/std)))\n",
    "print('P(X < 20) = {:,.5f}'.format(stats.norm.cdf((20 - mean)/std)))\n",
    "print('P(22 < X < 28) = {:,.5f}'.format(stats.norm.cdf((28 - mean)/std) - stats.norm.cdf((22 - mean)/std)))"
   ]
  },
  {
   "cell_type": "markdown",
   "id": "4f30937f",
   "metadata": {},
   "source": [
    "<hr style=\"height:1px;background-color:#999;boder:none\" />\n",
    "<h2> Q7 </h2>\n",
    "\n",
    "(Source: Fávero and Belfiore, 2017, Cap. 8). A group of 60 readers evaluated three romance books and chose one of the three options. Verify statistically whether there is a difference in readers' preferences with a 5%-level of significance. The data is available in the sheet 'Exercício 7' from the file <a href=\"Questions Data.xlsx\">Questions Data.xlsx</a>."
   ]
  },
  {
   "cell_type": "markdown",
   "id": "2d5e8d5c",
   "metadata": {},
   "source": [
    "<h3>Answer</h3>\n",
    "\n",
    "The event $ X $ of choosing one of the three books follows a **Multinomial distribution**. Let be $ p = (p_1, p_2, p_3) $ the probabilities of choosing a book and $ n = 60 $ the number of times that the readers chose a book. The random variable $ X = (X_1, X_2, X_3) $ is composed of three *binomial events* so that $ X_i \\sim Binomial(n, p_i),\\ i \\in \\{1, 2, 3\\} $. We must check the following hypotheses:\n",
    "\n",
    "$$ H_0: p = (1/3, 1/3, 1/3) \\\\ H_1: p \\neq (1/3, 1/3, 1/3) $$\n",
    "\n",
    "Let us consider the following **test statistic**\n",
    "\n",
    "$$ T = \\sum_{i = 1}^{3} \\frac{(X_i - n/3)^2}{n/3} $$\n",
    "\n",
    "Since the sample size is considerable large ($ n > 30 $), we can approximate the binomial distribution by a normal distribution supported by the *central limit theorem* (sum of Bernoulli trials). Therefore, $ T $ can be seen as a biased estimator of the variance whose sample follows a standard normal distribution. In this condition, this statistics follows a $ \\chi^2 $ distribution with $ 3 - 1 $ *degrees of freedom* denoted by $ \\chi^2_{2}(x) $, where the subscript is the degrees of freedom. Thus, we reject the null hypothesis if $ T > \\chi^2_{2}(1 - \\alpha) $."
   ]
  },
  {
   "cell_type": "code",
   "execution_count": 91,
   "id": "b3a719cd",
   "metadata": {},
   "outputs": [
    {
     "data": {
      "text/plain": [
       "Livro A    29\n",
       "Livro B    15\n",
       "Livro C    16\n",
       "Name: Frequência, dtype: int64"
      ]
     },
     "execution_count": 91,
     "metadata": {},
     "output_type": "execute_result"
    }
   ],
   "source": [
    "# Read data from Excel file and create a DataFrame\n",
    "df = pd.read_excel(\n",
    "    \"Questions Data.xlsx\",\n",
    "    sheet_name = 'Exercício 7',\n",
    "    usecols = 'A:D',\n",
    "    nrows = 1,\n",
    "    index_col = 0\n",
    ").squeeze()\n",
    "\n",
    "df.head()"
   ]
  },
  {
   "cell_type": "code",
   "execution_count": 93,
   "id": "92bf6358",
   "metadata": {},
   "outputs": [
    {
     "name": "stdout",
     "output_type": "stream",
     "text": [
      "Test Statistic = 6.10000\n",
      "Critical Value = 5.99146\n",
      "p-value = 0.04736\n"
     ]
    }
   ],
   "source": [
    "exp_mean = 60 / 3 # Expected mean\n",
    "test_statistic = np.sum((df - exp_mean)**2) / exp_mean\n",
    "p_value = 1 - stats.chi2.cdf(test_statistic, df = 2)\n",
    "critical_value = stats.chi2.ppf(1 - 0.05, df = 2)\n",
    "\n",
    "print('Test Statistic = {:,.5f}'.format(test_statistic))\n",
    "print('Critical Value = {:,.5f}'.format(critical_value))\n",
    "print('p-value = {:,.5f}'.format(p_value))"
   ]
  },
  {
   "cell_type": "markdown",
   "id": "10e870ea",
   "metadata": {},
   "source": [
    "Since the p-value is lower than $ \\alpha $, we reject the null hypothesis with a 5%-level of significance. However, the p-value is very close to $ \\alpha $, which implies we would not reject the null hypothesis if we assume a slightly lower significance."
   ]
  },
  {
   "cell_type": "markdown",
   "id": "377360b8",
   "metadata": {},
   "source": [
    "<hr style=\"height:1px;background-color:#999;boder:none\" />\n",
    "<h2> Q8 </h2>\n",
    "\n",
    "It was collected the total rainfall depth in millimetres (mm) over 14 days at two locations, A and B. A researcher noted that location A appears to have higher variability in the rainfall depth compared to location B. Perform a F-test with a 5%-level of significance to verify whether the variability in the total rainfall depth at location A is statistically higher than the variability at location B. The data is available in the sheet 'Exercício 8' from the file <a href=\"Questions Data.xlsx\">Questions Data.xlsx</a>."
   ]
  },
  {
   "cell_type": "markdown",
   "id": "3d926e5a",
   "metadata": {},
   "source": [
    "<h3>Answer</h3>\n",
    "\n",
    "Assuming that the total rainfall depth is normally distributed, we can apply the F-test considering the following hypotheses:\n",
    "\n",
    "$ H_0: \\hat{F} \\leq 1 $ <br />\n",
    "$ H_1: \\hat{F} > 1 $\n",
    "\n",
    "where $ \\hat{F} = \\hat{\\sigma}_{A}^2 / \\hat{\\sigma}_{B}^2 $ is the **test statistic**, which follows a *Fisher-Snedecor distribution* (a.k.a F-distribution) f with $ n - 1 $ ($ n $ is the sample size of A) and $ m - 1 $ ($m$ is the sample size of B) *degrees of freedom*."
   ]
  },
  {
   "cell_type": "code",
   "execution_count": 29,
   "id": "7ef46446",
   "metadata": {},
   "outputs": [
    {
     "data": {
      "text/html": [
       "<div>\n",
       "<style scoped>\n",
       "    .dataframe tbody tr th:only-of-type {\n",
       "        vertical-align: middle;\n",
       "    }\n",
       "\n",
       "    .dataframe tbody tr th {\n",
       "        vertical-align: top;\n",
       "    }\n",
       "\n",
       "    .dataframe thead th {\n",
       "        text-align: right;\n",
       "    }\n",
       "</style>\n",
       "<table border=\"1\" class=\"dataframe\">\n",
       "  <thead>\n",
       "    <tr style=\"text-align: right;\">\n",
       "      <th></th>\n",
       "      <th>Local A (mm)</th>\n",
       "      <th>Local B (mm)</th>\n",
       "    </tr>\n",
       "  </thead>\n",
       "  <tbody>\n",
       "    <tr>\n",
       "      <th>0</th>\n",
       "      <td>8.9</td>\n",
       "      <td>5.6</td>\n",
       "    </tr>\n",
       "    <tr>\n",
       "      <th>1</th>\n",
       "      <td>7.7</td>\n",
       "      <td>4.9</td>\n",
       "    </tr>\n",
       "    <tr>\n",
       "      <th>2</th>\n",
       "      <td>8.6</td>\n",
       "      <td>6.6</td>\n",
       "    </tr>\n",
       "    <tr>\n",
       "      <th>3</th>\n",
       "      <td>3.9</td>\n",
       "      <td>5.9</td>\n",
       "    </tr>\n",
       "    <tr>\n",
       "      <th>4</th>\n",
       "      <td>7.6</td>\n",
       "      <td>6.5</td>\n",
       "    </tr>\n",
       "  </tbody>\n",
       "</table>\n",
       "</div>"
      ],
      "text/plain": [
       "   Local A (mm)  Local B (mm)\n",
       "0           8.9           5.6\n",
       "1           7.7           4.9\n",
       "2           8.6           6.6\n",
       "3           3.9           5.9\n",
       "4           7.6           6.5"
      ]
     },
     "execution_count": 29,
     "metadata": {},
     "output_type": "execute_result"
    }
   ],
   "source": [
    "# Read data from Excel file and create a DataFrame\n",
    "df = pd.read_excel(\n",
    "    \"Questions Data.xlsx\",\n",
    "    sheet_name = 'Exercício 8',\n",
    "    usecols = 'A:B',\n",
    "    nrows = 14,\n",
    "    dtype = {'Local A (mm)': 'float64', 'Local A (mm)': 'float64'}\n",
    ")\n",
    "\n",
    "df.head()"
   ]
  },
  {
   "cell_type": "code",
   "execution_count": 30,
   "id": "c4c89054",
   "metadata": {},
   "outputs": [
    {
     "name": "stdout",
     "output_type": "stream",
     "text": [
      "F_statistic = 2.76118\n",
      "Critical value = 2.57693\n",
      "p_value = 0.03917\n"
     ]
    }
   ],
   "source": [
    "# Evaluating the F-statistic\n",
    "F_stats = df['Local A (mm)'].var() / df['Local B (mm)'].var()\n",
    "critical_value = stats.f.ppf(1 - 0.05, df.shape[0] - 1, df.shape[0] - 1)\n",
    "p_value = 1 - stats.f.cdf(F_stats, df.shape[0] - 1, df.shape[0] - 1)\n",
    "\n",
    "print(\"F_statistic = {:,.5f}\".format(F_stats))\n",
    "print(\"Critical value = {:,.5f}\".format(critical_value))\n",
    "print(\"p_value = {:,.5f}\".format(p_value))"
   ]
  },
  {
   "cell_type": "markdown",
   "id": "d6cf9b16",
   "metadata": {},
   "source": [
    "Since $ p_{value} < \\alpha $ ($ 0.039 < 0.05 $), we can reject the null hypothesis with a 5% level of significance. Therefore, we have evidence that the total rainfall depth varies more at A than at B."
   ]
  },
  {
   "cell_type": "markdown",
   "id": "9a65d7b2",
   "metadata": {},
   "source": [
    "<hr style=\"height:1px;background-color:#999;boder:none\" />\n",
    "<h2> Q9 </h2>\n",
    "\n",
    "\n",
    "(Fávero and Belfiore, 2017, Cap. 7) We wish to compare the mean waiting time to be attended at two hospitals considering a sample with 20 patients at each hospital. Check whether there is a difference between the mean waiting times at both hospitals assuming a significance level of $ \\alpha = 1\\% $. Also, evaluate the confidence intervals for each mean waiting time. All necessary data are available in the sheet *Exercício 9* from the file <a href=\"Questions Data.xlsx\">Questions Data.xlsx</a>."
   ]
  },
  {
   "cell_type": "markdown",
   "id": "a4770e90",
   "metadata": {},
   "source": [
    "<h3>Answer</h3>\n",
    "\n",
    "Since the sample size is small (less than 30), we shall assume the Student's t-statistic to perform a t-test. Therefore, we shall assume a normally distributed sample. Let us assuming the following hypotheses:\n",
    "\n",
    "$$ H_0: \\bar{X}_1 = \\bar{X}_2 \\\\ H_1: \\bar{X}_1 \\neq \\bar{X}_2 $$\n",
    "\n",
    "where $ \\bar{X}_1 $ and $ \\bar{X}_2 $ are the sample waiting times. \n",
    "The **test statistic** $ \\hat{T} $ is given by\n",
    "\n",
    "$$ \\hat{T} = \\frac{\\bar{X}_1 - \\bar{X}_2}{\\sqrt{s^2_1 / n_1 + s^2_2 / n_2}} $$\n",
    "\n",
    "where $ s^2_1 $, $ s_2^2 $, $ n_1 $, and $ n_2 $ are variances and the sample sizes of both hospitals respectively. The test statistic follows a Student's t distribution with $ n_1 + n_2 - 2 $ *degrees of freedom*."
   ]
  },
  {
   "cell_type": "markdown",
   "id": "6082837c",
   "metadata": {},
   "source": [
    "### Hypothesis testing"
   ]
  },
  {
   "cell_type": "code",
   "execution_count": 34,
   "id": "cdb05e5e",
   "metadata": {},
   "outputs": [
    {
     "data": {
      "text/html": [
       "<div>\n",
       "<style scoped>\n",
       "    .dataframe tbody tr th:only-of-type {\n",
       "        vertical-align: middle;\n",
       "    }\n",
       "\n",
       "    .dataframe tbody tr th {\n",
       "        vertical-align: top;\n",
       "    }\n",
       "\n",
       "    .dataframe thead th {\n",
       "        text-align: right;\n",
       "    }\n",
       "</style>\n",
       "<table border=\"1\" class=\"dataframe\">\n",
       "  <thead>\n",
       "    <tr style=\"text-align: right;\">\n",
       "      <th></th>\n",
       "      <th>Hospital 1</th>\n",
       "      <th>Hospital 2</th>\n",
       "    </tr>\n",
       "  </thead>\n",
       "  <tbody>\n",
       "    <tr>\n",
       "      <th>0</th>\n",
       "      <td>72</td>\n",
       "      <td>66</td>\n",
       "    </tr>\n",
       "    <tr>\n",
       "      <th>1</th>\n",
       "      <td>58</td>\n",
       "      <td>40</td>\n",
       "    </tr>\n",
       "    <tr>\n",
       "      <th>2</th>\n",
       "      <td>91</td>\n",
       "      <td>55</td>\n",
       "    </tr>\n",
       "    <tr>\n",
       "      <th>3</th>\n",
       "      <td>88</td>\n",
       "      <td>70</td>\n",
       "    </tr>\n",
       "    <tr>\n",
       "      <th>4</th>\n",
       "      <td>70</td>\n",
       "      <td>76</td>\n",
       "    </tr>\n",
       "  </tbody>\n",
       "</table>\n",
       "</div>"
      ],
      "text/plain": [
       "   Hospital 1  Hospital 2\n",
       "0          72          66\n",
       "1          58          40\n",
       "2          91          55\n",
       "3          88          70\n",
       "4          70          76"
      ]
     },
     "execution_count": 34,
     "metadata": {},
     "output_type": "execute_result"
    }
   ],
   "source": [
    "# Read data from Excel file and create a DataFrame\n",
    "df = pd.read_excel(\n",
    "    \"Questions Data.xlsx\",\n",
    "    sheet_name = 'Exercício 9',\n",
    "    usecols = 'A:B',\n",
    "    nrows = 20,\n",
    "    dtype = {'Hospital 1': 'int64', 'Hospital 2': 'int64'}\n",
    ")\n",
    "\n",
    "df.head()"
   ]
  },
  {
   "cell_type": "code",
   "execution_count": 46,
   "id": "7ec7a339",
   "metadata": {},
   "outputs": [
    {
     "name": "stdout",
     "output_type": "stream",
     "text": [
      "t_statistic = 6.92082\n",
      "p_value = 0.00000 (3.147828e-08)\n"
     ]
    }
   ],
   "source": [
    "#\n",
    "# Student's t-test to compare two means from independent samples\n",
    "#--\n",
    "# Using ttest_ind from Scipy library\n",
    "t_stats, p_value = stats.ttest_ind(df['Hospital 1'], df['Hospital 2'])\n",
    "\n",
    "print(\"t_statistic = {:,.5f}\".format(t_stats))\n",
    "print(\"p_value = {:,.5f} ({:,e})\".format(p_value, p_value))"
   ]
  },
  {
   "cell_type": "code",
   "execution_count": 47,
   "id": "b75dd850",
   "metadata": {},
   "outputs": [
    {
     "name": "stdout",
     "output_type": "stream",
     "text": [
      "Critical Value = 2.71156\n",
      "t_statistic = 6.92082\n",
      "p_value = 0.00000 (3.147828e-08)\n"
     ]
    }
   ],
   "source": [
    "# Evaluating the t-Statistics and the p-value \"manually\"\n",
    "t_stats = (df['Hospital 1'].mean() - df['Hospital 2'].mean()) / np.sqrt(df['Hospital 1'].var() / df.shape[0] + df['Hospital 2'].var() / df.shape[0])\n",
    "p_value = 2 * stats.t.cdf(-abs(t_stats), df = df.shape[0] + df.shape[0] - 2)\n",
    "critical_value = abs(stats.t.ppf(0.01/2, df = 2*df.shape[0] - 2))\n",
    "\n",
    "print(\"Critical Value = {:,.5f}\".format(critical_value))\n",
    "print(\"t_statistic = {:,.5f}\".format(t_stats))\n",
    "print(\"p_value = {:,.5f} ({:,e})\".format(p_value, p_value))"
   ]
  },
  {
   "cell_type": "markdown",
   "id": "b9b5b5a9",
   "metadata": {},
   "source": [
    "Since $ p_{value} < \\alpha $ (much lower), we can reject the null hypothesis with 1% level of significance. Therefore, we have evidence that both hospitals have a different mean waiting time to be attended."
   ]
  },
  {
   "cell_type": "markdown",
   "id": "6d245716",
   "metadata": {},
   "source": [
    "### Confidence interval"
   ]
  },
  {
   "cell_type": "markdown",
   "id": "f6657681",
   "metadata": {},
   "source": [
    "The confidence interval is\n",
    "\n",
    "$$ C = (\\bar{x} - t_{\\nu, \\alpha / 2} \\hat{se},\\ \\bar{x} + t_{\\nu, \\alpha / 2} \\hat{se}), $$\n",
    "\n",
    "where $ t_{\\nu, \\alpha / 2} = T^{-1}_{\\nu}(1 - \\alpha/2) $ and $ T_{\\nu}^{-1} $ is the inverse cumulative distribution function of the Student's t distribution. Plug $ \\alpha = 0.01 $ and $ \\nu = n - 1 = 19 $ in $ T_{\\nu}^{-1}(1 - \\alpha/2) $, we obtain $ T_{19}^{-1}(0.995) = 2.8609346064 ... $ (check below). Thus, the confidence interval follows bellow"
   ]
  },
  {
   "cell_type": "code",
   "execution_count": 49,
   "id": "65ffd633",
   "metadata": {},
   "outputs": [
    {
     "name": "stdout",
     "output_type": "stream",
     "text": [
      "t = 2.8609346064\n",
      "Confidence Interval (Hospital 1) = (73.99, 89.01)\n",
      "Confidence Interval (Hospital 2) = (51.51, 64.09)\n"
     ]
    }
   ],
   "source": [
    "t_alpha_over_2 = stats.t.ppf(1 - 0.01 / 2, df.shape[0] - 1)\n",
    "print(\"t = {:,.10f}\".format(t_alpha_over_2))\n",
    "\n",
    "mean_1 = df['Hospital 1'].mean()\n",
    "se_1 = df['Hospital 1'].sem()\n",
    "print(\"Confidence Interval (Hospital 1) = ({:,.2f}, {:,.2f})\".format(mean_1 - t_alpha_over_2 * se_1, mean_1 + t_alpha_over_2 * se_1))\n",
    "\n",
    "mean_2 = df['Hospital 2'].mean()\n",
    "se_2 = df['Hospital 2'].sem()\n",
    "print(\"Confidence Interval (Hospital 2) = ({:,.2f}, {:,.2f})\".format(mean_2 - t_alpha_over_2 * se_2, mean_2 + t_alpha_over_2 * se_2))"
   ]
  },
  {
   "cell_type": "markdown",
   "id": "1c77b014",
   "metadata": {},
   "source": [
    "<hr style=\"height:1px;background-color:#999;boder:none\" />\n",
    "<h2> Q10 </h2>\n",
    "\n",
    "A low-fat yogurt maker claims that each yogurt pot has $60 cal$ of food energy. To verify this information, a random sample with 36 pots is collected. It was observed a mean food energy of $65 cal$ and a standard deviation of $3.5 cal$. Apply the proper hypothesis test and verify if the maker's claim is true considering 5% significance level."
   ]
  },
  {
   "cell_type": "markdown",
   "id": "c1605bf9",
   "metadata": {},
   "source": [
    "<h3>Answer</h3>\n",
    "\n",
    "The sample is not so large since it barely has more than 30 elements. In this case, it is acceptable to apply the Z-test, but the t-test is more appropriate if we assume that sample is normally distributed. We shall perform both and compare their results. Let us consider the following hypothesis:\n",
    "\n",
    "Null hypothesis $H_0: \\mu = 60g$ <br />\n",
    "Alternative hypothesis $H_1: \\mu \\neq 60g$"
   ]
  },
  {
   "cell_type": "code",
   "execution_count": 4,
   "id": "99240a53",
   "metadata": {},
   "outputs": [],
   "source": [
    "n = 36 # Sample size\n",
    "sample_mean = 65 # Sample mean\n",
    "hyp_mean = 60 # Hypothesis\n",
    "std = 3.5 # Standard deviation\n",
    "alpha = 0.05 # Significance level"
   ]
  },
  {
   "cell_type": "markdown",
   "id": "6008ecde",
   "metadata": {},
   "source": [
    "### Z-test"
   ]
  },
  {
   "cell_type": "code",
   "execution_count": 19,
   "id": "1172e7c2",
   "metadata": {},
   "outputs": [
    {
     "name": "stdout",
     "output_type": "stream",
     "text": [
      "z-statistic = 2.30\n",
      "critical value = 1.96\n",
      "The p-value = 0.02117 is much lower than alpha = 0.05. Therefore, we reject the null hypothesis with a 5% level of significance.\n"
     ]
    }
   ],
   "source": [
    "z = np.sqrt(n) * (sample_mean - hyp_mean) / std # z-Statistic\n",
    "p_value = 2 * stats.norm.cdf(-abs(z))\n",
    "print(\"z-statistic = {:.2f}\".format(z))\n",
    "print(\"critical value = {:.2f}\".format(abs(stats.norm.ppf(alpha/2))))\n",
    "print(\"The p-value = {:.5f} is much lower than alpha = {:.2f}. Therefore, we reject the null hypothesis with a 5% level of significance.\".format(p_value, alpha))"
   ]
  },
  {
   "cell_type": "markdown",
   "id": "0a317222",
   "metadata": {},
   "source": [
    "### t-test"
   ]
  },
  {
   "cell_type": "code",
   "execution_count": 20,
   "id": "f0a10ca2",
   "metadata": {},
   "outputs": [
    {
     "name": "stdout",
     "output_type": "stream",
     "text": [
      "t-statistic = 2.30\n",
      "critical value = 1.99\n",
      "The p-value = 0.02364 is much lower than alpha = 0.05. Therefore, we reject the null hypothesis with a 5% level of significance.\n"
     ]
    }
   ],
   "source": [
    "t = np.sqrt(n) * (sample_mean - hyp_mean) / std # t-Statistic\n",
    "p_value = 2*stats.t.cdf(-abs(t), n - 1)\n",
    "print(\"t-statistic = {:.2f}\".format(t))\n",
    "print(\"critical value = {:.2f}\".format(abs(stats.t.ppf(alpha/2, n - 1))))\n",
    "print(\"The p-value = {:.5f} is much lower than alpha = {:.2f}. Therefore, we reject the null hypothesis with a 5% level of significance.\".format(p_value, alpha))"
   ]
  },
  {
   "cell_type": "markdown",
   "id": "59a599b5",
   "metadata": {},
   "source": [
    "The difference between the critical values of the Z-statistic and the t-statistic is 0.07. Therefore, the tests are close but not exactly equal."
   ]
  },
  {
   "cell_type": "markdown",
   "id": "c001aca2",
   "metadata": {},
   "source": [
    "<hr style=\"height:1px;background-color:#999;boder:none\" />\n",
    "<h2> Q11 </h2>\n",
    "\n",
    "A food industry uses a standard amount of salt of 8g with a standard deviation of 1g to prepare a particular product. In a sample of 85 products, it was observed the mean of 8.25g. Check if the observed quantity can be considered statistically higher with 5% significance level."
   ]
  },
  {
   "cell_type": "markdown",
   "id": "72ea2a55",
   "metadata": {},
   "source": [
    "<h3>Answer</h3>\n",
    "\n",
    "The sample is large enough to consider the sample mean normally distributed, which is guaranteed by the central limit theory. Therefore, we can apply the right-tailed Z-test assuming the following hypothesis:\n",
    "\n",
    "Null hypothesis $H_0: \\mu \\leq 8g$ <br />\n",
    "Alternative hypothesis $H_1: \\mu > 8g$"
   ]
  },
  {
   "cell_type": "code",
   "execution_count": 15,
   "id": "05129066",
   "metadata": {},
   "outputs": [],
   "source": [
    "n = 85 # Sample size\n",
    "sample_mean = 8.25 # Sample mean\n",
    "hyp_mean = 8 # Hypothesis\n",
    "std = 1 # Standard deviation\n",
    "alpha = 0.05 # Significance level"
   ]
  },
  {
   "cell_type": "code",
   "execution_count": 21,
   "id": "38d4cda5",
   "metadata": {},
   "outputs": [
    {
     "name": "stdout",
     "output_type": "stream",
     "text": [
      "z-Statistic = 2.30\n",
      "critical value = 1.64\n",
      "The p-value = 0.01059 is lower than alpha = 0.05. Therefore, we reject the null hypothesis with a 5% level of significance.\n"
     ]
    }
   ],
   "source": [
    "z = np.sqrt(n) * (sample_mean - hyp_mean) / std # z-Statistic\n",
    "p_value = 1 - stats.norm.cdf(z)\n",
    "print(\"z-Statistic = {:.2f}\".format(z))\n",
    "print(\"critical value = {:.2f}\".format(stats.norm.ppf(1 - alpha)))\n",
    "print(\"The p-value = {:.5f} is lower than alpha = {:.2f}. Therefore, we reject the null hypothesis with a 5% level of significance.\".format(p_value, alpha))"
   ]
  },
  {
   "cell_type": "markdown",
   "id": "cf5c470e",
   "metadata": {},
   "source": [
    "<hr style=\"height:1px;background-color:#999;boder:none\" />\n",
    "<h2> Q12 </h2>\n",
    "\n",
    "It was collected the weight from 425 products and then it was obtained the sample mean of 226g and a sample standard deviation of 10g. Evaluate the confidence interval for this mean knowing that the sample standard deviation equals the population standard deviation historically. Assume a 5%-level of significance."
   ]
  },
  {
   "cell_type": "markdown",
   "id": "480f5642",
   "metadata": {},
   "source": [
    "<h3>Answer</h3>\n",
    "\n",
    "Since the sample size $ \\bar{X} $ is large (n > 30), we can assume that the sample mean follows a normal distribution. Therefore, the confidence interval is given by\n",
    "\n",
    "$$ C = (\\bar{X} - z_{\\alpha/2} \\hat{se}, \\bar{X} + z_{\\alpha/2} \\hat{se}) $$\n",
    "\n",
    "where $ \\hat{se} = \\sqrt{\\mathbb{V}(\\bar{X})} $ is the standard error, $ z_{\\alpha / 2} = \\Phi^{-1}(1  - \\alpha / 2)$, and $ \\Phi^{-1} $ is the inverse cumulative distribution function of a standard normal."
   ]
  },
  {
   "cell_type": "code",
   "execution_count": 55,
   "id": "f13dc8c8",
   "metadata": {},
   "outputs": [
    {
     "name": "stdout",
     "output_type": "stream",
     "text": [
      "Confidence Interval = (225.05, 226.95)\n"
     ]
    }
   ],
   "source": [
    "sample_mean = 226\n",
    "sample_size = 425\n",
    "standard_error = 10 / np.sqrt(sample_size)\n",
    "alpha = 0.05\n",
    "z_alpha_over_2 = stats.norm.ppf(1 - alpha/2)\n",
    "\n",
    "a = sample_mean - z_alpha_over_2 * standard_error\n",
    "b = 2*sample_mean - a\n",
    "\n",
    "print(\"Confidence Interval = ({:,.2f}, {:,.2f})\".format(a, b))"
   ]
  }
 ],
 "metadata": {
  "kernelspec": {
   "display_name": "Python 3 (ipykernel)",
   "language": "python",
   "name": "python3"
  },
  "language_info": {
   "codemirror_mode": {
    "name": "ipython",
    "version": 3
   },
   "file_extension": ".py",
   "mimetype": "text/x-python",
   "name": "python",
   "nbconvert_exporter": "python",
   "pygments_lexer": "ipython3",
   "version": "3.10.6"
  }
 },
 "nbformat": 4,
 "nbformat_minor": 5
}
