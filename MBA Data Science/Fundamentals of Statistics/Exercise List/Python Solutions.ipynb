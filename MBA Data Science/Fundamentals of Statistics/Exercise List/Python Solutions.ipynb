{
 "cells": [
  {
   "cell_type": "markdown",
   "id": "00b2efc3",
   "metadata": {},
   "source": [
    "# Exercises"
   ]
  },
  {
   "cell_type": "markdown",
   "id": "5f1a7d57",
   "metadata": {},
   "source": [
    "## Lirabries"
   ]
  },
  {
   "cell_type": "code",
   "execution_count": 2,
   "id": "db98a2f7",
   "metadata": {},
   "outputs": [],
   "source": [
    "import numpy as np\n",
    "import pandas as pd\n",
    "from scipy import stats"
   ]
  },
  {
   "cell_type": "markdown",
   "id": "3f1afde6",
   "metadata": {},
   "source": [
    "## Q1"
   ]
  },
  {
   "cell_type": "markdown",
   "id": "98be9ec8",
   "metadata": {},
   "source": [
    "## Q2"
   ]
  },
  {
   "cell_type": "markdown",
   "id": "2c36cf19",
   "metadata": {},
   "source": [
    "## Q3"
   ]
  },
  {
   "cell_type": "markdown",
   "id": "f59983df",
   "metadata": {},
   "source": [
    "## Q4"
   ]
  },
  {
   "cell_type": "markdown",
   "id": "15776db1",
   "metadata": {},
   "source": [
    "## Q5"
   ]
  },
  {
   "cell_type": "markdown",
   "id": "b18d9500",
   "metadata": {},
   "source": [
    "## Q6"
   ]
  },
  {
   "cell_type": "markdown",
   "id": "4f30937f",
   "metadata": {},
   "source": [
    "## Q7"
   ]
  },
  {
   "cell_type": "markdown",
   "id": "377360b8",
   "metadata": {},
   "source": [
    "<hr style=\"height:1px;background-color:#999;boder:none\" />\n",
    "<h2> Q8 </h2>\n",
    "It was collected the total rainfall depth in millimetres (mm) over 14 days at two locations, A and B. A researcher noted that location A appears to have higher variability in the rainfall depth compared to location B. Perform a F-test with a 5%-level of significance to verify whether the variability in the total rainfall depth at location A is statistically higher than the variability at location B. The data is available in the sheet 'Exercício 8' from the file <a href=\"Questions Data.xlsx\">Questions Data.xlsx</a>.\n",
    "<hr style=\"height:1px;background-color:#999;boder:none\" />"
   ]
  },
  {
   "cell_type": "markdown",
   "id": "5f0f2ca3",
   "metadata": {},
   "source": [
    "Assuming that the total rainfall depth is normally distributed, we can apply the F-test considering the following hypotheses:\n",
    "\n",
    "$ H_0: \\hat{F} \\leq 1 $ <br />\n",
    "$ H_1: \\hat{F} > 1 $\n",
    "\n",
    "where $ \\hat{F} = \\hat{\\sigma}_{A}^2 / \\hat{\\sigma}_{B}^2 $ is the **test statistic**, which follows a *Fisher-Snedecor distribution* (a.k.a F-distribution) f with $ n - 1 $ ($ n $ is the sample size of A) and $ m - 1 $ ($m$ is the sample size of B) *degrees of freedom*."
   ]
  },
  {
   "cell_type": "code",
   "execution_count": 17,
   "id": "02c390fc",
   "metadata": {},
   "outputs": [
    {
     "data": {
      "text/html": [
       "<div>\n",
       "<style scoped>\n",
       "    .dataframe tbody tr th:only-of-type {\n",
       "        vertical-align: middle;\n",
       "    }\n",
       "\n",
       "    .dataframe tbody tr th {\n",
       "        vertical-align: top;\n",
       "    }\n",
       "\n",
       "    .dataframe thead th {\n",
       "        text-align: right;\n",
       "    }\n",
       "</style>\n",
       "<table border=\"1\" class=\"dataframe\">\n",
       "  <thead>\n",
       "    <tr style=\"text-align: right;\">\n",
       "      <th></th>\n",
       "      <th>Local A (mm)</th>\n",
       "      <th>Local B (mm)</th>\n",
       "    </tr>\n",
       "  </thead>\n",
       "  <tbody>\n",
       "    <tr>\n",
       "      <th>0</th>\n",
       "      <td>8.9</td>\n",
       "      <td>5.6</td>\n",
       "    </tr>\n",
       "    <tr>\n",
       "      <th>1</th>\n",
       "      <td>7.7</td>\n",
       "      <td>4.9</td>\n",
       "    </tr>\n",
       "    <tr>\n",
       "      <th>2</th>\n",
       "      <td>8.6</td>\n",
       "      <td>6.6</td>\n",
       "    </tr>\n",
       "    <tr>\n",
       "      <th>3</th>\n",
       "      <td>3.9</td>\n",
       "      <td>5.9</td>\n",
       "    </tr>\n",
       "    <tr>\n",
       "      <th>4</th>\n",
       "      <td>7.6</td>\n",
       "      <td>6.5</td>\n",
       "    </tr>\n",
       "  </tbody>\n",
       "</table>\n",
       "</div>"
      ],
      "text/plain": [
       "   Local A (mm)  Local B (mm)\n",
       "0           8.9           5.6\n",
       "1           7.7           4.9\n",
       "2           8.6           6.6\n",
       "3           3.9           5.9\n",
       "4           7.6           6.5"
      ]
     },
     "execution_count": 17,
     "metadata": {},
     "output_type": "execute_result"
    }
   ],
   "source": [
    "# Read data from Excel file and create a DataFrame\n",
    "df = pd.read_excel(\n",
    "    \"Questions Data.xlsx\",\n",
    "    sheet_name = 'Exercício 8',\n",
    "    usecols = 'A:B',\n",
    "    nrows = 14,\n",
    "    dtype = {'Local A (mm)': 'float64', 'Local A (mm)': 'float64'}\n",
    ")\n",
    "\n",
    "df.head()"
   ]
  },
  {
   "cell_type": "code",
   "execution_count": 23,
   "id": "8ed80c11",
   "metadata": {},
   "outputs": [
    {
     "name": "stdout",
     "output_type": "stream",
     "text": [
      "F_statistic = 2.76118\n",
      "p_value = 0.03917\n"
     ]
    }
   ],
   "source": [
    "# Evaluating the F-statistic\n",
    "F_stats = df['Local A (mm)'].var() / df['Local B (mm)'].var()\n",
    "p_value = 1 - stats.f.cdf(F_stats, df.shape[0] - 1, df.shape[0] - 1)\n",
    "\n",
    "print(\"F_statistic = {:,.5f}\".format(F_stats))\n",
    "print(\"p_value = {:,.5f}\".format(p_value))"
   ]
  },
  {
   "cell_type": "markdown",
   "id": "508eda12",
   "metadata": {},
   "source": [
    "Since $ p_{value} < \\alpha $ ($ 0.039 < 0.05 $), we can reject the null hypothesis with a 5% level of significance. Therefore, we have evidence that the total rainfall depth varies more at A than at B."
   ]
  },
  {
   "cell_type": "markdown",
   "id": "9a65d7b2",
   "metadata": {},
   "source": [
    "<hr style=\"height:1px;background-color:#999;boder:none\" />\n",
    "<h2> Q9 </h2>\n",
    "\n",
    "(Fávero and Belfiore, 2017, Cap. 7) We wish to compare the mean waiting time to be attended at two hospitals considering a sample with 20 patients at each hospital. Check whether there is a difference between the mean waiting times at both hospitals assuming a significance level of $ \\alpha = 1\\% $. Also, evaluate the confidence intervals for each mean waiting time. All necessary data are available in the sheet *Exercício 9* from the file <a href=\"Questions Data.xlsx\">Questions Data.xlsx</a>.\n",
    "<hr style=\"height:1px;background-color:#999;boder:none\" />"
   ]
  },
  {
   "cell_type": "markdown",
   "id": "a4770e90",
   "metadata": {},
   "source": [
    "Since the sample size is small (less than 30), we shall assume the Student's t-statistic to perform a t-test. Therefore, we shall assume a normally distributed sample. Let us assuming the following hypotheses:\n",
    "\n",
    "$$ H_0: \\bar{X}_1 = \\bar{X}_2 \\\\ H_1: \\bar{X}_1 \\neq \\bar{X}_2 $$\n",
    "\n",
    "where $ \\bar{X}_1 $ and $ \\bar{X}_2 $ are the sample waiting times. \n",
    "The **test statistic** $ \\hat{T} $ is given by\n",
    "\n",
    "$$ \\hat{T} = \\frac{\\bar{X}_1 - \\bar{X}_2}{\\sqrt{s^2_1 / n_1 + s^2_2 / n_2}} $$\n",
    "\n",
    "where $ s^2_1 $, $ s_2^2 $, $ n_1 $, and $ n_2 $ are variances and the sample sizes of both hospitals respectively. The test statistic follows a Student's t distribution with $ n_1 + n_2 - 2 $ *degrees of freedom*."
   ]
  },
  {
   "cell_type": "markdown",
   "id": "6082837c",
   "metadata": {},
   "source": [
    "### Hypothesis testing"
   ]
  },
  {
   "cell_type": "code",
   "execution_count": 25,
   "id": "cdb05e5e",
   "metadata": {},
   "outputs": [
    {
     "data": {
      "text/html": [
       "<div>\n",
       "<style scoped>\n",
       "    .dataframe tbody tr th:only-of-type {\n",
       "        vertical-align: middle;\n",
       "    }\n",
       "\n",
       "    .dataframe tbody tr th {\n",
       "        vertical-align: top;\n",
       "    }\n",
       "\n",
       "    .dataframe thead th {\n",
       "        text-align: right;\n",
       "    }\n",
       "</style>\n",
       "<table border=\"1\" class=\"dataframe\">\n",
       "  <thead>\n",
       "    <tr style=\"text-align: right;\">\n",
       "      <th></th>\n",
       "      <th>Hospital 1</th>\n",
       "      <th>Hospital 2</th>\n",
       "    </tr>\n",
       "  </thead>\n",
       "  <tbody>\n",
       "    <tr>\n",
       "      <th>0</th>\n",
       "      <td>72</td>\n",
       "      <td>66</td>\n",
       "    </tr>\n",
       "    <tr>\n",
       "      <th>1</th>\n",
       "      <td>58</td>\n",
       "      <td>40</td>\n",
       "    </tr>\n",
       "    <tr>\n",
       "      <th>2</th>\n",
       "      <td>91</td>\n",
       "      <td>55</td>\n",
       "    </tr>\n",
       "    <tr>\n",
       "      <th>3</th>\n",
       "      <td>88</td>\n",
       "      <td>70</td>\n",
       "    </tr>\n",
       "    <tr>\n",
       "      <th>4</th>\n",
       "      <td>70</td>\n",
       "      <td>76</td>\n",
       "    </tr>\n",
       "  </tbody>\n",
       "</table>\n",
       "</div>"
      ],
      "text/plain": [
       "   Hospital 1  Hospital 2\n",
       "0          72          66\n",
       "1          58          40\n",
       "2          91          55\n",
       "3          88          70\n",
       "4          70          76"
      ]
     },
     "execution_count": 25,
     "metadata": {},
     "output_type": "execute_result"
    }
   ],
   "source": [
    "# Read data from Excel file and create a DataFrame\n",
    "df = pd.read_excel(\n",
    "    \"Questions Data.xlsx\",\n",
    "    sheet_name = 'Exercício 9',\n",
    "    usecols = 'A:B',\n",
    "    nrows = 20,\n",
    "    dtype = {'Hospital 1': 'int64', 'Hospital 2': 'int64'}\n",
    ")\n",
    "\n",
    "df.head()"
   ]
  },
  {
   "cell_type": "code",
   "execution_count": 26,
   "id": "7ec7a339",
   "metadata": {},
   "outputs": [
    {
     "name": "stdout",
     "output_type": "stream",
     "text": [
      "t_statistic = 6.92082 (6.920824e+00) \n",
      "p_value = 0.00000 (3.147828e-08)\n"
     ]
    }
   ],
   "source": [
    "#\n",
    "# Student's t-test to compare two means from independent samples\n",
    "#--\n",
    "# Using ttest_ind from Scipy library\n",
    "t_stats, p_value = stats.ttest_ind(df['Hospital 1'], df['Hospital 2'])\n",
    "print(\"t_statistic = {:,.5f} ({:,e}) \\np_value = {:,.5f} ({:,e})\".format(t_stats, t_stats, p_value, p_value))"
   ]
  },
  {
   "cell_type": "code",
   "execution_count": 27,
   "id": "b75dd850",
   "metadata": {},
   "outputs": [
    {
     "name": "stdout",
     "output_type": "stream",
     "text": [
      "t_statistic = 6.92082 (6.920824e+00) \n",
      "p_value = 0.00000 (3.147828e-08)\n"
     ]
    }
   ],
   "source": [
    "# Evaluating the t-Statistics and the p-value \"manually\"\n",
    "t_stats = (df['Hospital 1'].mean() - df['Hospital 2'].mean()) / np.sqrt(df['Hospital 1'].var() / df.shape[0] + df['Hospital 2'].var() / df.shape[0])\n",
    "p_value = 2 * stats.t.cdf(-abs(t_stats), df = df.shape[0] + df.shape[0] - 2)\n",
    "\n",
    "print(\"t_statistic = {:,.5f} ({:,e}) \\np_value = {:,.5f} ({:,e})\".format(t_stats, t_stats, p_value, p_value))"
   ]
  },
  {
   "cell_type": "markdown",
   "id": "b9b5b5a9",
   "metadata": {},
   "source": [
    "Since $ p_{value} < \\alpha $ (much lower), we can reject the null hypothesis with 1% level of significance. Therefore, we have evidence that both hospitals have a different mean waiting time to be attended."
   ]
  },
  {
   "cell_type": "markdown",
   "id": "6d245716",
   "metadata": {},
   "source": [
    "### Confidence interval"
   ]
  },
  {
   "cell_type": "markdown",
   "id": "f6657681",
   "metadata": {},
   "source": [
    "The confidence interval is\n",
    "\n",
    "$$ C = (\\bar{x} - t_{\\nu, \\alpha / 2} \\hat{se},\\ \\bar{x} + t_{\\nu, \\alpha / 2} \\hat{se}), $$\n",
    "\n",
    "where $ t_{\\nu, \\alpha / 2} = T^{-1}_{\\nu}(1 - \\alpha/2) $ and $ T_{\\nu}^{-1} $ is the inverse cumulative distribution function of the Student's t distribution. Plug $ \\alpha = 0.01 $ and $ \\nu = n - 1 = 19 $ in $ T_{\\nu}^{-1}(1 - \\alpha/2) $, we obtain $ T_{19}^{-1}(0.995) = 7.507891608549317 ... $ (check below). Thus, the confidence interval follows bellow"
   ]
  },
  {
   "cell_type": "code",
   "execution_count": 76,
   "id": "65ffd633",
   "metadata": {},
   "outputs": [
    {
     "name": "stdout",
     "output_type": "stream",
     "text": [
      "t = 2.8609346064\n",
      "Confidence Interval (Hospital 1) = (73.99, 89.01)\n",
      "Confidence Interval (Hospital 2) = (51.51, 64.09)\n"
     ]
    }
   ],
   "source": [
    "z_alpha_over_2 = stats.t.ppf(1 - 0.01 / 2, df.shape[0] - 1)\n",
    "print(\"t = {:,.10f}\".format(z_alpha_over_2))\n",
    "\n",
    "mean_1 = df['Hospital 1'].mean()\n",
    "se_1 = df['Hospital 1'].sem()\n",
    "print(\"Confidence Interval (Hospital 1) = ({:,.2f}, {:,.2f})\".format(mean_1 - z_alpha_over_2 * se_1, mean_1 + z_alpha_over_2 * se_1))\n",
    "\n",
    "mean_2 = df['Hospital 2'].mean()\n",
    "se_2 = df['Hospital 2'].sem()\n",
    "print(\"Confidence Interval (Hospital 2) = ({:,.2f}, {:,.2f})\".format(mean_2 - z_alpha_over_2 * se_2, mean_2 + z_alpha_over_2 * se_2))"
   ]
  },
  {
   "cell_type": "markdown",
   "id": "1c77b014",
   "metadata": {},
   "source": [
    "<hr style=\"height:1px;background-color:#999;boder:none\" />\n",
    "<h2> Q10 </h2>\n",
    "\n",
    "A low-fat yogurt maker claims that each yogurt pot has $60 cal$ of food energy. To verify this information, a random sample with 36 pots is collected. It was observed a mean food energy of $65 cal$ and a standard deviation of $3.5 cal$. Apply the proper hypothesis test and verify if the maker's claim is true considering 5% significance level.\n",
    "<hr style=\"height:1px;background-color:#999;boder:none\" />"
   ]
  },
  {
   "cell_type": "markdown",
   "id": "c1605bf9",
   "metadata": {},
   "source": [
    "The sample is not so large since it barely has more than 30 elements. In this case, it is acceptable to apply the Z-test, but the t-test is more appropriate if we assume that sample is normally distributed. We shall perform both and compare their results. Let us consider the following hypothesis:\n",
    "\n",
    "Null hypothesis $H_0: \\mu = 60g$ <br />\n",
    "Alternative hypothesis $H_1: \\mu \\neq 60g$"
   ]
  },
  {
   "cell_type": "code",
   "execution_count": 4,
   "id": "99240a53",
   "metadata": {},
   "outputs": [],
   "source": [
    "n = 36 # Sample size\n",
    "sample_mean = 65 # Sample mean\n",
    "hyp_mean = 60 # Hypothesis\n",
    "std = 3.5 # Standard deviation\n",
    "alpha = 0.05 # Significance level"
   ]
  },
  {
   "cell_type": "markdown",
   "id": "6008ecde",
   "metadata": {},
   "source": [
    "### Z-test"
   ]
  },
  {
   "cell_type": "code",
   "execution_count": 19,
   "id": "1172e7c2",
   "metadata": {},
   "outputs": [
    {
     "name": "stdout",
     "output_type": "stream",
     "text": [
      "z-statistic = 2.30\n",
      "critical value = 1.96\n",
      "The p-value = 0.02117 is much lower than alpha = 0.05. Therefore, we reject the null hypothesis with a 5% level of significance.\n"
     ]
    }
   ],
   "source": [
    "z = np.sqrt(n) * (sample_mean - hyp_mean) / std # z-Statistic\n",
    "p_value = 2 * stats.norm.cdf(-abs(z))\n",
    "print(\"z-statistic = {:.2f}\".format(z))\n",
    "print(\"critical value = {:.2f}\".format(abs(stats.norm.ppf(alpha/2))))\n",
    "print(\"The p-value = {:.5f} is much lower than alpha = {:.2f}. Therefore, we reject the null hypothesis with a 5% level of significance.\".format(p_value, alpha))"
   ]
  },
  {
   "cell_type": "markdown",
   "id": "0a317222",
   "metadata": {},
   "source": [
    "### t-test"
   ]
  },
  {
   "cell_type": "code",
   "execution_count": 20,
   "id": "f0a10ca2",
   "metadata": {},
   "outputs": [
    {
     "name": "stdout",
     "output_type": "stream",
     "text": [
      "t-statistic = 2.30\n",
      "critical value = 1.99\n",
      "The p-value = 0.02364 is much lower than alpha = 0.05. Therefore, we reject the null hypothesis with a 5% level of significance.\n"
     ]
    }
   ],
   "source": [
    "t = np.sqrt(n) * (sample_mean - hyp_mean) / std # t-Statistic\n",
    "p_value = 2*stats.t.cdf(-abs(t), n - 1)\n",
    "print(\"t-statistic = {:.2f}\".format(t))\n",
    "print(\"critical value = {:.2f}\".format(abs(stats.t.ppf(alpha/2, n - 1))))\n",
    "print(\"The p-value = {:.5f} is much lower than alpha = {:.2f}. Therefore, we reject the null hypothesis with a 5% level of significance.\".format(p_value, alpha))"
   ]
  },
  {
   "cell_type": "markdown",
   "id": "59a599b5",
   "metadata": {},
   "source": [
    "The difference between the critical values of the Z-statistic and the t-statistic is 0.07. Therefore, the tests are close but not exactly equal."
   ]
  },
  {
   "cell_type": "markdown",
   "id": "c001aca2",
   "metadata": {},
   "source": [
    "<hr style=\"height:1px;background-color:#999;boder:none\" />\n",
    "<h2> Q11 </h2>\n",
    "\n",
    "A food industry uses a standard amount of salt of 8g with a standard deviation of 1g to prepare a particular product. In a sample of 85 products, it was observed the mean of 8.25g. Check if the observed quantity can be considered statistically higher with 5% significance level.\n",
    "<hr style=\"height:1px;background-color:#999;boder:none\" />"
   ]
  },
  {
   "cell_type": "markdown",
   "id": "72ea2a55",
   "metadata": {},
   "source": [
    "The sample is large enough to consider the sample mean normally distributed, which is guaranteed by the central limit theory. Therefore, we can apply the right-tailed Z-test assuming the following hypothesis:\n",
    "\n",
    "Null hypothesis $H_0: \\mu \\leq 8g$ <br />\n",
    "Alternative hypothesis $H_1: \\mu > 8g$"
   ]
  },
  {
   "cell_type": "code",
   "execution_count": 15,
   "id": "05129066",
   "metadata": {},
   "outputs": [],
   "source": [
    "n = 85 # Sample size\n",
    "sample_mean = 8.25 # Sample mean\n",
    "hyp_mean = 8 # Hypothesis\n",
    "std = 1 # Standard deviation\n",
    "alpha = 0.05 # Significance level"
   ]
  },
  {
   "cell_type": "code",
   "execution_count": 21,
   "id": "38d4cda5",
   "metadata": {},
   "outputs": [
    {
     "name": "stdout",
     "output_type": "stream",
     "text": [
      "z-Statistic = 2.30\n",
      "critical value = 1.64\n",
      "The p-value = 0.01059 is lower than alpha = 0.05. Therefore, we reject the null hypothesis with a 5% level of significance.\n"
     ]
    }
   ],
   "source": [
    "z = np.sqrt(n) * (sample_mean - hyp_mean) / std # z-Statistic\n",
    "p_value = 1 - stats.norm.cdf(z)\n",
    "print(\"z-Statistic = {:.2f}\".format(z))\n",
    "print(\"critical value = {:.2f}\".format(stats.norm.ppf(1 - alpha)))\n",
    "print(\"The p-value = {:.5f} is lower than alpha = {:.2f}. Therefore, we reject the null hypothesis with a 5% level of significance.\".format(p_value, alpha))"
   ]
  },
  {
   "cell_type": "markdown",
   "id": "cf5c470e",
   "metadata": {},
   "source": [
    "## Q12\n"
   ]
  },
  {
   "cell_type": "code",
   "execution_count": null,
   "id": "7e63f731",
   "metadata": {},
   "outputs": [],
   "source": []
  }
 ],
 "metadata": {
  "kernelspec": {
   "display_name": "Python 3 (ipykernel)",
   "language": "python",
   "name": "python3"
  },
  "language_info": {
   "codemirror_mode": {
    "name": "ipython",
    "version": 3
   },
   "file_extension": ".py",
   "mimetype": "text/x-python",
   "name": "python",
   "nbconvert_exporter": "python",
   "pygments_lexer": "ipython3",
   "version": "3.10.6"
  }
 },
 "nbformat": 4,
 "nbformat_minor": 5
}
