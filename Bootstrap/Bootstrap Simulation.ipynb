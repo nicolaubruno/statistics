{
 "cells": [
  {
   "cell_type": "markdown",
   "id": "f515187c",
   "metadata": {},
   "source": [
    "# Confidence interval through bootstrapping and Student's t assumption"
   ]
  },
  {
   "cell_type": "markdown",
   "id": "fc9795bc",
   "metadata": {},
   "source": [
    "In this program, we shall verify how robust is the confidence interval estimated from non-normal sample (exponentially distributed) through two methods:\n",
    "\n",
    "(1) bootstrapping <br>\n",
    "(2) Assuming a t distributed sample (kwoning that they are not)"
   ]
  },
  {
   "cell_type": "markdown",
   "id": "7e52893d",
   "metadata": {},
   "source": [
    "## Libraries"
   ]
  },
  {
   "cell_type": "code",
   "execution_count": 173,
   "id": "bac4509c",
   "metadata": {},
   "outputs": [],
   "source": [
    "import numpy as np\n",
    "from scipy import stats\n",
    "from matplotlib import pyplot as plt"
   ]
  },
  {
   "cell_type": "markdown",
   "id": "3baceb45",
   "metadata": {},
   "source": [
    "## Confidence interval by bootstrapping"
   ]
  },
  {
   "cell_type": "markdown",
   "id": "dbd9bd5a",
   "metadata": {},
   "source": [
    "Defining some functions"
   ]
  },
  {
   "cell_type": "code",
   "execution_count": 174,
   "id": "90301f4b",
   "metadata": {},
   "outputs": [],
   "source": [
    "# Empirical Distribution Function\n",
    "def EDF(x, sample):\n",
    "    ret = 0\n",
    "    \n",
    "    for xi in sample:\n",
    "        if xi <= x: ret += 1\n",
    "            \n",
    "    return ret / sample.size\n",
    "\n",
    "def sample_quantile(p, sample):\n",
    "    eps = (max(sample) - min(sample)) / 1000\n",
    "    \n",
    "    x = min(sample)\n",
    "    while EDF(x, sample) < p:\n",
    "        x += eps\n",
    "        \n",
    "    return x\n",
    "\n",
    "def boot_conf_inter(sample, alpha = 0.05, n = 1000):\n",
    "    mean = np.mean(sample)\n",
    "    boot_mean = np.full(n, np.nan)\n",
    "    \n",
    "    for i in range(boot_mean.size):\n",
    "        boot_mean[i] = np.mean(np.random.choice(sample, sample.size))\n",
    "        \n",
    "    return (2*mean - sample_quantile(1 - alpha/2, boot_mean), 2*mean - sample_quantile(alpha / 2, sample))"
   ]
  },
  {
   "cell_type": "markdown",
   "id": "e37c6330",
   "metadata": {},
   "source": [
    "Perfoming the sampling <code>n_total</code> and testing if the populational mean is within the estimated confidence interval"
   ]
  },
  {
   "cell_type": "code",
   "execution_count": 208,
   "id": "f980441a",
   "metadata": {},
   "outputs": [
    {
     "name": "stdout",
     "output_type": "stream",
     "text": [
      "The population mean was between the estimated confidence interval 98.00%\n"
     ]
    }
   ],
   "source": [
    "n_in = 0 # Number of times that the population mean was inside the confidence interval\n",
    "n_total = 100 # Number of experiments\n",
    "\n",
    "for i in range(n_total):\n",
    "    sample = stats.expon.rvs(size = 30)\n",
    "    pop_mean = stats.expon.mean()\n",
    "    conf_inter = boot_conf_inter(sample, n = 100)\n",
    "    \n",
    "    if (pop_mean >= conf_inter[0]) and (pop_mean <= conf_inter[1]): n_in += 1\n",
    "        \n",
    "print('The population mean was between the estimated confidence interval {:.2f}%'.format(100 * n_in / n_total))"
   ]
  },
  {
   "cell_type": "markdown",
   "id": "8b8aa69a",
   "metadata": {},
   "source": [
    "## Confidence interval by Student's t assumption"
   ]
  },
  {
   "cell_type": "markdown",
   "id": "aea55d66",
   "metadata": {},
   "source": [
    "Let us assuming the sample normally distributed, even though we know they are not, and then let us evaluate the confidence interval using a Student's t distribution. "
   ]
  },
  {
   "cell_type": "code",
   "execution_count": 207,
   "id": "3c0c7fc9",
   "metadata": {},
   "outputs": [
    {
     "name": "stdout",
     "output_type": "stream",
     "text": [
      "The population mean was between the estimated confidence interval 92.00%\n"
     ]
    }
   ],
   "source": [
    "n_in = 0 # Number of times that the population mean was inside the confidence interval\n",
    "n_total = 1000 # Number of experiments\n",
    "\n",
    "for i in range(n_total):\n",
    "    sample = stats.expon.rvs(size = 30)\n",
    "    pop_mean = stats.expon.mean()\n",
    "    mean = np.mean(sample)\n",
    "    se = np.std(sample) / np.sqrt(sample.size)\n",
    "    alpha = 0.05\n",
    "    z = stats.t.ppf(1 - alpha / 2, sample.size - 1)\n",
    "    conf_inter = (mean - z*se, mean + z*se)\n",
    "    \n",
    "    if (pop_mean >= conf_inter[0]) and (pop_mean <= conf_inter[1]): n_in += 1\n",
    "        \n",
    "print('The population mean was between the estimated confidence interval {:.2f}%'.format(100 * n_in / n_total))"
   ]
  },
  {
   "cell_type": "markdown",
   "id": "d41f20fd",
   "metadata": {},
   "source": [
    "## Conclusion"
   ]
  },
  {
   "cell_type": "markdown",
   "id": "f2ea7f64",
   "metadata": {},
   "source": [
    "The bootstrapping approach always obtain a estimated confidence interval which includes the populational mean at least 95% of the time, whilst the Student's t approach rarely reproduces the desired result. If we run the block codes above, we shall always obtain a good accuracy of the boostrapping approach and an insufficient accuracy of the Student's t approach."
   ]
  }
 ],
 "metadata": {
  "kernelspec": {
   "display_name": "Python 3 (ipykernel)",
   "language": "python",
   "name": "python3"
  },
  "language_info": {
   "codemirror_mode": {
    "name": "ipython",
    "version": 3
   },
   "file_extension": ".py",
   "mimetype": "text/x-python",
   "name": "python",
   "nbconvert_exporter": "python",
   "pygments_lexer": "ipython3",
   "version": "3.10.6"
  }
 },
 "nbformat": 4,
 "nbformat_minor": 5
}
